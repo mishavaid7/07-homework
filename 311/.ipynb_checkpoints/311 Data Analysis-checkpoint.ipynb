{
 "cells": [
  {
   "cell_type": "markdown",
   "id": "9d38926d",
   "metadata": {},
   "source": [
    "### Do your imports!"
   ]
  },
  {
   "cell_type": "code",
   "execution_count": 1,
   "id": "055005cf",
   "metadata": {},
   "outputs": [],
   "source": []
  },
  {
   "cell_type": "markdown",
   "id": "0ad89e50",
   "metadata": {},
   "source": [
    "# 311 data analysis\n",
    "\n",
    "## Read in `subset.csv` and review the first few rows\n",
    "\n",
    "Even though it's a giant file – gigs and gigs! – it's a subset of the [entire dataset](https://data.cityofnewyork.us/Social-Services/311-Service-Requests-from-2010-to-Present/erm2-nwe9). It covers plenty of years, but not all of the columns.\n",
    "\n",
    "If your computer is struggling (which it will!) or you are impatient, feel free to use `nrows=` when reading it in to speed up the process by only reading in a subset of columns. Pull in at least a few million, or a couple years back."
   ]
  },
  {
   "cell_type": "code",
   "execution_count": null,
   "id": "95ab0b53",
   "metadata": {
    "scrolled": true
   },
   "outputs": [],
   "source": []
  },
  {
   "cell_type": "markdown",
   "id": "e870bd49",
   "metadata": {},
   "source": [
    "### Where the subset came from\n",
    "\n",
    "If you're curious, I took the [original data](https://data.cityofnewyork.us/Social-Services/311-Service-Requests-from-2010-to-Present/erm2-nwe9/data) and clipped out a subset by using the command-line tool [csvkit](https://csvkit.readthedocs.io/en/latest/).\n",
    "\n",
    "First I inspected the column headers:\n",
    "\n",
    "```bash\n",
    "$ csvcut -n 311_Service_Requests_from_2010_to_Present.csv \n",
    "```\n",
    "\n",
    "Then I selected the columns I was interested in and saved it to a file.\n",
    "\n",
    "```bash\n",
    "$ csvcut -c 1,2,3,4,5,6,7,8,9,10,16,17,20,26,29 311_Service_Requests_from_2010_to_Present.csv > subset.csv\n",
    "```\n",
    "\n",
    "This was much much much much faster than doing it in Python."
   ]
  },
  {
   "cell_type": "markdown",
   "id": "5584582a",
   "metadata": {},
   "source": [
    "## We want more columns!\n",
    "\n",
    "**Right now we don't see all of the columns.** For example, mine has `...` between the **Incident Address** column and the **City** column. Go up to the top where you imported pandas, and add a `pd.set_option` line that will allow you to view all of the columns of the dataset."
   ]
  },
  {
   "cell_type": "code",
   "execution_count": null,
   "id": "45f891ed",
   "metadata": {},
   "outputs": [],
   "source": []
  },
  {
   "cell_type": "markdown",
   "id": "a63e2407",
   "metadata": {},
   "source": [
    "## We hate those column names!\n",
    "\n",
    "Change the column names to be tab- and period-friendly, like `df.created_date` instead of `df['Created Date']`"
   ]
  },
  {
   "cell_type": "code",
   "execution_count": null,
   "id": "e7a06ffa",
   "metadata": {},
   "outputs": [],
   "source": []
  },
  {
   "cell_type": "markdown",
   "id": "36ff2fc2",
   "metadata": {},
   "source": [
    "# Dates and times\n",
    "\n",
    "## Are the datetimes actually datetimes?\n",
    "\n",
    "We're going to be doing some datetime-y things, so let's see if the columns that look like dates are actually dates."
   ]
  },
  {
   "cell_type": "code",
   "execution_count": null,
   "id": "57e32449",
   "metadata": {},
   "outputs": [],
   "source": []
  },
  {
   "cell_type": "markdown",
   "id": "d5338fad",
   "metadata": {},
   "source": [
    "## In they aren't datetimes, convert them\n",
    "\n",
    "The ones we're interested in are as follows:\n",
    "\n",
    "* Created Date\n",
    "* Closed Date\n",
    "\n",
    "You have two options to convert them:\n",
    "\n",
    "1. Do it like we did in class, but **overwrite the existing string columns with the new datetime versions**\n",
    "2. Find an option with `read_csv` to automatically read certain columns as dates! Use the shift+tab trick to read the `read_csv` docs to uncover it. Once you find it, you'll set it to be the **list of date-y columns**.\n",
    "\n",
    "They're both going to take forever if you do them wrong, but can be faster with a few tricks. For example, using `pd.to_datetime` can be sped up significantly be specifying the format of the datestring.\n",
    "\n",
    "For example, if your datetime was formatted as `YYYY-MM-DD HH:MM:SS AM`, you could use the following:\n",
    "\n",
    "```\n",
    "df.my_datetime = pd.to_datetime(df.my_datetime, format=\"%Y-%m-%d %I:%M:%S %p\")\n",
    "```\n",
    "\n",
    "It's unfortunately much much much faster than the `read_csv` technique. And yes, [that's `%I` and not `%H`](https://strftime.org/).\n",
    "\n",
    "> *Tip: What should happen if it encounters an error or missing data?*"
   ]
  },
  {
   "cell_type": "code",
   "execution_count": null,
   "id": "91739685",
   "metadata": {},
   "outputs": [],
   "source": []
  },
  {
   "cell_type": "code",
   "execution_count": null,
   "id": "29535ceb",
   "metadata": {},
   "outputs": [],
   "source": []
  },
  {
   "cell_type": "markdown",
   "id": "61949b07",
   "metadata": {},
   "source": [
    "## According to the dataset, which month of the year has the most 311 calls?\n",
    "\n",
    "The kind of answer we're looking for is \"January,\" not \"January 2021\""
   ]
  },
  {
   "cell_type": "code",
   "execution_count": null,
   "id": "38149da1",
   "metadata": {},
   "outputs": [],
   "source": []
  },
  {
   "cell_type": "markdown",
   "id": "4c03fb54",
   "metadata": {},
   "source": [
    "## According to the dataset, which month has had the most 311 calls?\n",
    "\n",
    "The kind of answer we're looking for is \"January 2021,\" not \"January\" (although _techniucally_ it will say `2021-01-31`, not `January 2021`)"
   ]
  },
  {
   "cell_type": "code",
   "execution_count": null,
   "id": "12d75e39",
   "metadata": {},
   "outputs": [],
   "source": []
  },
  {
   "cell_type": "markdown",
   "id": "0113e7e7",
   "metadata": {},
   "source": [
    "## Plot the 311 call frequency over our dataset on a _weekly_ basis\n",
    "\n",
    "To make your y axis start at zero, use `ylim=(0,100000)` when doing `.plot`. But replace the `1000` with a large enough value to actually see your data nicely!"
   ]
  },
  {
   "cell_type": "code",
   "execution_count": null,
   "id": "691e80cf",
   "metadata": {},
   "outputs": [],
   "source": []
  },
  {
   "cell_type": "markdown",
   "id": "4fe8dc9a",
   "metadata": {},
   "source": [
    "## What time of day (by hour) is the most least for 311 complains? The most common?\n"
   ]
  },
  {
   "cell_type": "code",
   "execution_count": null,
   "id": "7a7452bc",
   "metadata": {},
   "outputs": [],
   "source": []
  },
  {
   "cell_type": "markdown",
   "id": "1001c432",
   "metadata": {},
   "source": [
    "### Make a graph of the results\n",
    "\n",
    "* Make sure the hours are in the correct order\n",
    "* Be sure to set the y-axis to start at 0\n",
    "* Give your plot a descriptive title"
   ]
  },
  {
   "cell_type": "code",
   "execution_count": null,
   "id": "9c2c4689",
   "metadata": {},
   "outputs": [],
   "source": []
  },
  {
   "cell_type": "markdown",
   "id": "dd2d2905",
   "metadata": {},
   "source": [
    "# Agencies\n",
    "\n",
    "## What agencies field the most complaints in the dataset? Get the top 5.\n",
    "\n",
    "Use the `agency` column for this one."
   ]
  },
  {
   "cell_type": "code",
   "execution_count": null,
   "id": "22000a0e",
   "metadata": {},
   "outputs": [],
   "source": []
  },
  {
   "cell_type": "markdown",
   "id": "3469fc64",
   "metadata": {},
   "source": [
    "## What are each of those agencies?\n",
    "\n",
    "Define the following five acronyms:\n",
    "\n",
    "* NYPD\n",
    "* HPD\n",
    "* DOT\n",
    "* DSNY\n",
    "* DEP"
   ]
  },
  {
   "cell_type": "code",
   "execution_count": null,
   "id": "0c588062",
   "metadata": {},
   "outputs": [],
   "source": []
  },
  {
   "cell_type": "markdown",
   "id": "d4cae99e",
   "metadata": {},
   "source": [
    "## What is the most common complaint to HPD?"
   ]
  },
  {
   "cell_type": "code",
   "execution_count": null,
   "id": "030eca78",
   "metadata": {},
   "outputs": [],
   "source": []
  },
  {
   "cell_type": "markdown",
   "id": "75def603",
   "metadata": {},
   "source": [
    "## What are the top 3 complaints to each agency?\n",
    "\n",
    "You'll want to use the weird confusing `.groupby(level=...` thing we learned when reviewing the homework."
   ]
  },
  {
   "cell_type": "code",
   "execution_count": null,
   "id": "eeaee487",
   "metadata": {},
   "outputs": [],
   "source": []
  },
  {
   "cell_type": "markdown",
   "id": "c3d55807",
   "metadata": {},
   "source": [
    "## What is the most common kind of residential noise complaint?\n",
    "\n",
    "The NYPD seems to deal with a lot of noise complaints at homes. What is the most common subtype?"
   ]
  },
  {
   "cell_type": "code",
   "execution_count": null,
   "id": "e726cd32",
   "metadata": {},
   "outputs": [],
   "source": []
  },
  {
   "cell_type": "markdown",
   "id": "3d6c4dff",
   "metadata": {},
   "source": [
    "## What time of day do \"Loud Music/Party\" complaints come in? Make it a chart!"
   ]
  },
  {
   "cell_type": "code",
   "execution_count": null,
   "id": "029c4248",
   "metadata": {},
   "outputs": [],
   "source": []
  },
  {
   "cell_type": "markdown",
   "id": "72378323",
   "metadata": {},
   "source": [
    "## When do people party hard?\n",
    "\n",
    "Make a monthly chart of Loud Music/Party complaints since the beginning of the dataset. Make it count them on a biweekly basis (every two weeks)."
   ]
  },
  {
   "cell_type": "code",
   "execution_count": null,
   "id": "1403b89b",
   "metadata": {},
   "outputs": [],
   "source": []
  },
  {
   "cell_type": "markdown",
   "id": "de48a3ec",
   "metadata": {},
   "source": [
    "## People and their bees\n",
    "\n",
    "Sometimes people complain about bees! Why they'd do that, I have no idea. It's somewhere in \"complaint_type\" – can you find all of the bee-related complaints?"
   ]
  },
  {
   "cell_type": "code",
   "execution_count": null,
   "id": "5f1901b0",
   "metadata": {},
   "outputs": [],
   "source": []
  },
  {
   "cell_type": "markdown",
   "id": "8c68e167",
   "metadata": {},
   "source": [
    "### What month do most of the complaints happen in? I'd like to see a graph."
   ]
  },
  {
   "cell_type": "code",
   "execution_count": null,
   "id": "590fd267",
   "metadata": {},
   "outputs": [],
   "source": []
  },
  {
   "cell_type": "markdown",
   "id": "9cdf43eb",
   "metadata": {},
   "source": [
    "### Are the people getting in trouble usually beekeepers or not beekeepers?"
   ]
  },
  {
   "cell_type": "code",
   "execution_count": null,
   "id": "e517af3a",
   "metadata": {},
   "outputs": [],
   "source": []
  },
  {
   "cell_type": "markdown",
   "id": "2f96be0a",
   "metadata": {},
   "source": [
    "# Math with datetimes\n",
    "\n",
    "## How long does it normally take to resolve a 311 complaint?\n",
    "\n",
    "Even if we didn't cover this in class, I have faith that you can guess how to calculate it."
   ]
  },
  {
   "cell_type": "code",
   "execution_count": null,
   "id": "11145dfb",
   "metadata": {},
   "outputs": [],
   "source": []
  },
  {
   "cell_type": "markdown",
   "id": "f901cdb7",
   "metadata": {},
   "source": [
    "Save it as a new column called `time_to_fix`"
   ]
  },
  {
   "cell_type": "code",
   "execution_count": null,
   "id": "2cdcf705",
   "metadata": {},
   "outputs": [],
   "source": []
  },
  {
   "cell_type": "markdown",
   "id": "30fbc746",
   "metadata": {},
   "source": [
    "## Which agency has the best time-to-fix time?"
   ]
  },
  {
   "cell_type": "code",
   "execution_count": null,
   "id": "c2bb7780",
   "metadata": {},
   "outputs": [],
   "source": []
  },
  {
   "cell_type": "markdown",
   "id": "376f1775",
   "metadata": {},
   "source": [
    "## Maybe we need some more information...\n",
    "\n",
    "I might want to know how big our sample size is for each of those, maybe the high performers only have one or two instances of having requests filed!\n",
    "\n",
    "### First, try using `.describe()` on the time to fix column after your `groupby`."
   ]
  },
  {
   "cell_type": "code",
   "execution_count": null,
   "id": "81ba3d2e",
   "metadata": {},
   "outputs": [],
   "source": []
  },
  {
   "cell_type": "markdown",
   "id": "d9805543",
   "metadata": {},
   "source": [
    "### Now, an alternative\n",
    "\n",
    "Seems a little busy, yeah? **You can also do smaller, custom aggregations.**\n",
    "\n",
    "Try something like this:\n",
    "\n",
    "```python\n",
    "# Multiple aggregations of one column\n",
    "df.groupby('agency').time_to_fix.agg(['median', 'size'])\n",
    "\n",
    "# You can also do something like this to reach multiple columns\n",
    "df.groupby('agency').agg({\n",
    "    'time_to_fix': ['median', 'size']\n",
    "})\n",
    "```"
   ]
  },
  {
   "cell_type": "code",
   "execution_count": null,
   "id": "90413000",
   "metadata": {},
   "outputs": [],
   "source": []
  },
  {
   "cell_type": "code",
   "execution_count": null,
   "id": "a0ee267d",
   "metadata": {},
   "outputs": [],
   "source": []
  },
  {
   "cell_type": "markdown",
   "id": "d1cf1865",
   "metadata": {},
   "source": [
    "## Seems weird that NYPD time-to-close is so fast. Can we break that down by complaint type?\n",
    "\n",
    "Remember the order: \n",
    "\n",
    "1. Filter\n",
    "2. Group\n",
    "3. Grab a column\n",
    "4. Do something with it\n",
    "5. Sort"
   ]
  },
  {
   "cell_type": "code",
   "execution_count": null,
   "id": "11c4f90f",
   "metadata": {},
   "outputs": [],
   "source": []
  },
  {
   "cell_type": "markdown",
   "id": "c5b5caf5",
   "metadata": {},
   "source": [
    "## Back to median fix time for all agencies: do these values change based on the borough?\n",
    "\n",
    "First, use `groupby` to get the median time to fix per agency in each borough. You can use something like `pd.set_option(\"display.max_rows\", 200)` if you can't see all of the results by default!"
   ]
  },
  {
   "cell_type": "code",
   "execution_count": null,
   "id": "4525d028",
   "metadata": {},
   "outputs": [],
   "source": []
  },
  {
   "cell_type": "markdown",
   "id": "04727585",
   "metadata": {},
   "source": [
    "### Or, use another technique!"
   ]
  },
  {
   "cell_type": "markdown",
   "id": "be7a8f72",
   "metadata": {},
   "source": [
    "We talked about pivot table for a hot second in class, but it's (potentially) a good fit for this situation:\n",
    "\n",
    "```python\n",
    "df.pivot_table(\n",
    "    columns='what will show up as your columns',\n",
    "    index='what will show up as your rows',\n",
    "    values='the column that will show up in each cell',\n",
    "    aggfunc='the calculation(s) you want dont'\n",
    ")\n",
    "```"
   ]
  },
  {
   "cell_type": "code",
   "execution_count": null,
   "id": "bcd98dc1",
   "metadata": {},
   "outputs": [],
   "source": []
  },
  {
   "cell_type": "markdown",
   "id": "01d10369",
   "metadata": {},
   "source": [
    "### Use the pivot table result to find the worst-performing agency in the Bronx, then compare with Staten Island\n",
    "\n",
    "Since it's a dataframe, you can use the power of `.sort_values` (twice!). Do any of the agencies have a large difference between the two?"
   ]
  },
  {
   "cell_type": "code",
   "execution_count": null,
   "id": "e09a49d8",
   "metadata": {},
   "outputs": [],
   "source": []
  },
  {
   "cell_type": "code",
   "execution_count": null,
   "id": "f09a730c",
   "metadata": {},
   "outputs": [],
   "source": []
  },
  {
   "cell_type": "markdown",
   "id": "ce6c5d0b",
   "metadata": {},
   "source": [
    "## What were the top ten 311 types of complaints on Thanksgiving 2020? Are they different than the day before Thanksgiving?\n",
    "\n",
    "**Finding exact dates is awful, honestly.** While you can do something like this to ask for rows after a specific date:\n",
    "\n",
    "```python\n",
    "df[df.date_column >= '2020-01-01']\n",
    "```\n",
    "\n",
    "You, for some reason, can't ask for an **exact match** unless you're really looking for exactly at midnight. For example, this won't give you what you want:\n",
    "\n",
    "```python\n",
    "df[df.date_column == '2020-01-01']\n",
    "```\n",
    "\n",
    "Instead, the thing you need to do is this:\n",
    "\n",
    "```python\n",
    "df[(df.date_column >= '2020-01-01') & (df.date_column < '2020-01-02']\n",
    "```\n",
    "\n",
    "Everything that starts at midnight on the 1st but *is still less than midnight on the 2nd**."
   ]
  },
  {
   "cell_type": "code",
   "execution_count": null,
   "id": "e6882c87",
   "metadata": {},
   "outputs": [],
   "source": []
  },
  {
   "cell_type": "markdown",
   "id": "db27701d",
   "metadata": {},
   "source": [
    "## What is the most common 311 complaint types on Christmas day?\n",
    "\n",
    "And I mean *all Christmas days*, not just in certain years)\n",
    "\n",
    "* Tip: `dt.` and `&` are going to be your friend here\n",
    "* Tip: If you want to get fancy you can look up `strftime`\n",
    "* Tip: One of those is much much faster than the other"
   ]
  },
  {
   "cell_type": "code",
   "execution_count": null,
   "id": "4b935a41",
   "metadata": {},
   "outputs": [],
   "source": []
  },
  {
   "cell_type": "code",
   "execution_count": null,
   "id": "3d6c81e3",
   "metadata": {},
   "outputs": [],
   "source": []
  },
  {
   "cell_type": "markdown",
   "id": "183ca029",
   "metadata": {},
   "source": [
    "# Stories\n",
    "\n",
    "Let's approach this from the idea of **having stories and wanting to investigate them.** Fun facts:\n",
    "\n",
    "* Not all of these are reasonably answered with what our data is\n",
    "* We only have certain skills about how to analyzing the data\n",
    "* There are about six hundred approaches for each question\n",
    "\n",
    "But: **for most of these prompts there are at least a few ways you can get something interesting out of the dataset.**"
   ]
  },
  {
   "cell_type": "markdown",
   "id": "0e9f8549",
   "metadata": {},
   "source": [
    "## Fireworks and BLM\n",
    "\n",
    "You're writing a story about the anecdotal idea that the summer of the BLM protests there were an incredible number of fireworks being set off. Does the data support this?\n",
    "\n",
    "What assumptions is your analysis making? What could make your analysis fall apart?"
   ]
  },
  {
   "cell_type": "code",
   "execution_count": null,
   "id": "45046a03",
   "metadata": {},
   "outputs": [],
   "source": []
  },
  {
   "cell_type": "markdown",
   "id": "e48a6243",
   "metadata": {},
   "source": [
    "## Sanitation and work slowdowns\n",
    "\n",
    "The Dept of Sanitation recently had a work slowdown to protest the vaccine mandate. You'd like to write about past work slowdowns that have caused garbage to pile up in the street, streets to not be swept, etc, and compare them to the current slowdown. You've also heard rumors that it was worse in Staten Island and a few Brooklyn neighborhoods - Marine Park and Canarsie - than everywhere else.\n",
    "\n",
    "Use the data to find timeframes worth researching, and note how this slowdown might compare. Also, is there anything behind the geographic issue?\n",
    "\n",
    "What assumptions is your analysis making? What could make your analysis fall apart?"
   ]
  },
  {
   "cell_type": "code",
   "execution_count": null,
   "id": "46a342c4",
   "metadata": {},
   "outputs": [],
   "source": []
  },
  {
   "cell_type": "markdown",
   "id": "dd929f11",
   "metadata": {},
   "source": [
    "## Gentrification and whining to the government\n",
    "\n",
    "It's said that when a neighborhood gentrifies, the people who move in are quick to report things to authorities that would previously have been ignored or dealt with on a personal basis. Use the data to investigate the concept (two techniques for finding gentrifying area are using census data and using Google).\n",
    "\n",
    "What assumptions is your analysis making? What could make your analysis fall apart? Be sure to cite your sources. "
   ]
  },
  {
   "cell_type": "code",
   "execution_count": null,
   "id": "1df31a4a",
   "metadata": {},
   "outputs": [],
   "source": []
  },
  {
   "cell_type": "markdown",
   "id": "2cba95a7",
   "metadata": {},
   "source": [
    "## 311 quirks\n",
    "\n",
    "Our editor tried to submit a 311 request using the app the other day, but it didn't go through. As we all know, news is what happens to your editor! Has the 311 mobile app ever actually stopped working?\n",
    "\n",
    "If that's a dead end, maybe you can talk about the differences between the different submission avenues: could a mobile outage disproportionately impact a certain kind of complaint or agency? How about if the phone lines stopped working?\n",
    "\n",
    "What assumptions is your analysis making? What could make your analysis fall apart?"
   ]
  },
  {
   "cell_type": "code",
   "execution_count": null,
   "id": "a9951f8c",
   "metadata": {},
   "outputs": [],
   "source": []
  },
  {
   "cell_type": "markdown",
   "id": "62ff7b9a",
   "metadata": {},
   "source": [
    "## NYCHA and public funds\n",
    "\n",
    "NYC's public housing infrastructure is failing, and one reason is lack of federal funds. While the recent spending bills passed through Congress might be able to help, the feeling is that things have really fallen apart in the past however-many years – as time goes on it gets more and more difficult for the agency in control of things to address issues in a timely manner.\n",
    "\n",
    "If you were tasked with finding information to help a reporter writing on this topic, you will **not** reasonably be able to find much in the dataset to support or refute this. Why not? \n",
    "\n",
    "If you wanted to squeeze something out of this dataset anyway, what could an option be? (You might need to bring in another dataset.)"
   ]
  },
  {
   "cell_type": "code",
   "execution_count": null,
   "id": "0ebc3436",
   "metadata": {},
   "outputs": [],
   "source": []
  }
 ],
 "metadata": {
  "kernelspec": {
   "display_name": "Python 3 (ipykernel)",
   "language": "python",
   "name": "python3"
  },
  "language_info": {
   "codemirror_mode": {
    "name": "ipython",
    "version": 3
   },
   "file_extension": ".py",
   "mimetype": "text/x-python",
   "name": "python",
   "nbconvert_exporter": "python",
   "pygments_lexer": "ipython3",
   "version": "3.9.7"
  }
 },
 "nbformat": 4,
 "nbformat_minor": 5
}
